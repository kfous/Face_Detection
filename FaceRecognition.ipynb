{
 "cells": [
  {
   "cell_type": "code",
   "execution_count": 1,
   "metadata": {},
   "outputs": [],
   "source": [
    "import cv2\n",
    "import sys"
   ]
  },
  {
   "cell_type": "code",
   "execution_count": 2,
   "metadata": {},
   "outputs": [],
   "source": [
    "# User Supplied Values\n",
    "imagePath = \"C:/Users/Kostas/Documents/Face_Detection/china.jpg\"\n",
    "cascPath = \"C:/Users/Kostas/Documents/Face_Detection/haarcascade_frontalface_default.xml\""
   ]
  },
  {
   "cell_type": "code",
   "execution_count": 3,
   "metadata": {},
   "outputs": [],
   "source": [
    "# Haar cascade creation\n",
    "faceCascade = cv2.CascadeClassifier(cascPath)"
   ]
  },
  {
   "cell_type": "code",
   "execution_count": 4,
   "metadata": {},
   "outputs": [],
   "source": [
    "#Image Read\n",
    "image = cv2.imread(imagePath)\n",
    "gray = cv2.cvtColor(image,cv2.COLOR_BGR2GRAY)"
   ]
  },
  {
   "cell_type": "code",
   "execution_count": 5,
   "metadata": {},
   "outputs": [],
   "source": [
    "# Image's face detection\n",
    "faces = faceCascade.detectMultiScale(\n",
    "gray,\n",
    "scaleFactor = 1.1,\n",
    "minNeighbors = 5,\n",
    "minSize = (30 ,30),\n",
    "flags = cv2.CASCADE_SCALE_IMAGE\n",
    ")"
   ]
  },
  {
   "cell_type": "code",
   "execution_count": 6,
   "metadata": {},
   "outputs": [
    {
     "name": "stdout",
     "output_type": "stream",
     "text": [
      "Found 4 faces!\n"
     ]
    }
   ],
   "source": [
    "print(\"Found {0} faces!\".format(len(faces)))"
   ]
  },
  {
   "cell_type": "code",
   "execution_count": 7,
   "metadata": {},
   "outputs": [],
   "source": [
    "#Draw a rectagle around the faces that were found\n",
    "for(x, y, w, h) in faces:\n",
    "    cv2.rectangle(image, (x,y),(x+w, y+h),(255,99,71),2)"
   ]
  },
  {
   "cell_type": "code",
   "execution_count": 8,
   "metadata": {},
   "outputs": [],
   "source": [
    "# resizable image window\n",
    "cv2.namedWindow('Faces found', cv2.WINDOW_NORMAL)\n",
    "cv2.imshow(\"Faces found\",image)\n",
    "\n",
    "k = cv2.waitKey(0)\n",
    "# wait for ESC key to exit\n",
    "if k == 27:         \n",
    "    cv2.destroyAllWindows()\n",
    "#else wait for 's' key to save and exit\n",
    "elif k == ord('s'): \n",
    "    cv2.imwrite('chinadetected.png',image)\n",
    "    cv2.destroyAllWindows()"
   ]
  },
  {
   "cell_type": "code",
   "execution_count": null,
   "metadata": {},
   "outputs": [],
   "source": []
  }
 ],
 "metadata": {
  "kernelspec": {
   "display_name": "Python 3",
   "language": "python",
   "name": "python3"
  },
  "language_info": {
   "codemirror_mode": {
    "name": "ipython",
    "version": 3
   },
   "file_extension": ".py",
   "mimetype": "text/x-python",
   "name": "python",
   "nbconvert_exporter": "python",
   "pygments_lexer": "ipython3",
   "version": "3.7.0"
  }
 },
 "nbformat": 4,
 "nbformat_minor": 2
}
